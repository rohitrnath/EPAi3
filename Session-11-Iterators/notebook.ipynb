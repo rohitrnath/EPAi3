{
 "cells": [
  {
   "cell_type": "markdown",
   "source": [
    "# Polygon"
   ],
   "metadata": {}
  },
  {
   "cell_type": "markdown",
   "source": [
    "## Objective 1"
   ],
   "metadata": {}
  },
  {
   "cell_type": "code",
   "execution_count": 21,
   "source": [
    "#import polygon class\n",
    "from polygon import Polygon"
   ],
   "outputs": [],
   "metadata": {}
  },
  {
   "cell_type": "code",
   "execution_count": 29,
   "source": [
    "# Create a Polygon object with edges=3 (triangle) with circumradius=6\n",
    "poly_obj_1 = Polygon( 3, 6)\n",
    "\n",
    "# print poly_obj_1 object representation\n",
    "print( poly_obj_1)"
   ],
   "outputs": [
    {
     "output_type": "stream",
     "name": "stdout",
     "text": [
      "Polygon< edges:3, circumradius:6 >\n"
     ]
    }
   ],
   "metadata": {}
  },
  {
   "cell_type": "code",
   "execution_count": 30,
   "source": [
    "# Print all the properties of the polygon object\n",
    "print(f'[poly_obj_1] Number of edges : {poly_obj_1.num_edges}')\n",
    "print(f'[poly_obj_1] Circumradius : {poly_obj_1.circumradius}')\n",
    "print(f'[poly_obj_1] Interior angle : {poly_obj_1.interior_angle}')\n",
    "print(f'[poly_obj_1] Edge length : {poly_obj_1.edge_length}')\n",
    "print(f'[poly_obj_1] Apothem : {poly_obj_1.apothem}')\n",
    "print(f'[poly_obj_1] Area: {poly_obj_1.area}')\n",
    "print(f'[poly_obj_1] Perimeter: {poly_obj_1.perimeter}')"
   ],
   "outputs": [
    {
     "output_type": "stream",
     "name": "stdout",
     "text": [
      "[poly_obj_1] Number of edges : 3\n",
      "[poly_obj_1] Circumradius : 6\n",
      "[poly_obj_1] Interior angle : 60.0\n",
      "[poly_obj_1] Edge length : 10.392304845413264\n",
      "[poly_obj_1] Apothem : 3.000000000000001\n",
      "[poly_obj_1] Area: 46.7653718043597\n",
      "[poly_obj_1] Perimeter: 31.176914536239792\n"
     ]
    }
   ],
   "metadata": {}
  },
  {
   "cell_type": "code",
   "execution_count": 31,
   "source": [
    "# Create a Polygon object with edges=4(rectangle) and circumradius=6\n",
    "poly_obj_2 = Polygon( 4, 6)\n",
    "\n",
    "# Create a Polygon object with edges=3 (triangle) with circumradius=6\n",
    "poly_obj_3 = Polygon( 3, 6)"
   ],
   "outputs": [],
   "metadata": {}
  },
  {
   "cell_type": "code",
   "execution_count": 32,
   "source": [
    "# print poly_obj_2 object representation\n",
    "print( poly_obj_2)"
   ],
   "outputs": [
    {
     "output_type": "stream",
     "name": "stdout",
     "text": [
      "Polygon< edges:4, circumradius:6 >\n"
     ]
    }
   ],
   "metadata": {}
  },
  {
   "cell_type": "code",
   "execution_count": 33,
   "source": [
    "# print poly_obj_2 object representation\n",
    "print( poly_obj_3)"
   ],
   "outputs": [
    {
     "output_type": "stream",
     "name": "stdout",
     "text": [
      "Polygon< edges:3, circumradius:6 >\n"
     ]
    }
   ],
   "metadata": {}
  },
  {
   "cell_type": "markdown",
   "source": [
    "### Equal to (==) Operator"
   ],
   "metadata": {}
  },
  {
   "cell_type": "code",
   "execution_count": 34,
   "source": [
    "poly_obj_1 == poly_obj_2"
   ],
   "outputs": [
    {
     "output_type": "execute_result",
     "data": {
      "text/plain": [
       "False"
      ]
     },
     "metadata": {},
     "execution_count": 34
    }
   ],
   "metadata": {}
  },
  {
   "cell_type": "code",
   "execution_count": 35,
   "source": [
    "poly_obj_1 == poly_obj_3"
   ],
   "outputs": [
    {
     "output_type": "execute_result",
     "data": {
      "text/plain": [
       "True"
      ]
     },
     "metadata": {},
     "execution_count": 35
    }
   ],
   "metadata": {}
  },
  {
   "cell_type": "markdown",
   "source": [
    "### Greater than (>) Operator"
   ],
   "metadata": {}
  },
  {
   "cell_type": "code",
   "execution_count": 38,
   "source": [
    "poly_obj_2 > poly_obj_1"
   ],
   "outputs": [
    {
     "output_type": "execute_result",
     "data": {
      "text/plain": [
       "True"
      ]
     },
     "metadata": {},
     "execution_count": 38
    }
   ],
   "metadata": {}
  },
  {
   "cell_type": "code",
   "execution_count": 39,
   "source": [
    "poly_obj_1 > poly_obj_3"
   ],
   "outputs": [
    {
     "output_type": "execute_result",
     "data": {
      "text/plain": [
       "False"
      ]
     },
     "metadata": {},
     "execution_count": 39
    }
   ],
   "metadata": {}
  },
  {
   "cell_type": "markdown",
   "source": [
    "## Objective 2"
   ],
   "metadata": {}
  },
  {
   "cell_type": "code",
   "execution_count": 40,
   "source": [
    "#import Polygon_sequence class\n",
    "from polygon_sequence import Polygon_sequence"
   ],
   "outputs": [],
   "metadata": {}
  },
  {
   "cell_type": "code",
   "execution_count": 42,
   "source": [
    "# Create a polygon_sequnece object with largest edges number of 25\n",
    "poly_seq = Polygon_sequence( 25, 5)\n",
    "\n",
    "# print poly_seq object representation\n",
    "poly_seq"
   ],
   "outputs": [
    {
     "output_type": "execute_result",
     "data": {
      "text/plain": [
       "Polygon sequence< number of polygons:23, largest polygon edges:25, common circumradius:5 >"
      ]
     },
     "metadata": {},
     "execution_count": 42
    }
   ],
   "metadata": {}
  },
  {
   "cell_type": "markdown",
   "source": [
    "### len operator"
   ],
   "metadata": {}
  },
  {
   "cell_type": "code",
   "execution_count": 43,
   "source": [
    "len(poly_seq)"
   ],
   "outputs": [
    {
     "output_type": "execute_result",
     "data": {
      "text/plain": [
       "23"
      ]
     },
     "metadata": {},
     "execution_count": 43
    }
   ],
   "metadata": {}
  },
  {
   "cell_type": "markdown",
   "source": [
    "### getitem operator"
   ],
   "metadata": {}
  },
  {
   "cell_type": "code",
   "execution_count": 45,
   "source": [
    "poly_seq[3]"
   ],
   "outputs": [
    {
     "output_type": "execute_result",
     "data": {
      "text/plain": [
       "Polygon< edges:6, circumradius:5 >"
      ]
     },
     "metadata": {},
     "execution_count": 45
    }
   ],
   "metadata": {}
  },
  {
   "cell_type": "markdown",
   "source": [
    "#### Slicing"
   ],
   "metadata": {}
  },
  {
   "cell_type": "code",
   "execution_count": 47,
   "source": [
    "poly_seq[3:10]"
   ],
   "outputs": [
    {
     "output_type": "execute_result",
     "data": {
      "text/plain": [
       "[Polygon< edges:6, circumradius:5 >,\n",
       " Polygon< edges:7, circumradius:5 >,\n",
       " Polygon< edges:8, circumradius:5 >,\n",
       " Polygon< edges:9, circumradius:5 >,\n",
       " Polygon< edges:10, circumradius:5 >,\n",
       " Polygon< edges:11, circumradius:5 >,\n",
       " Polygon< edges:12, circumradius:5 >]"
      ]
     },
     "metadata": {},
     "execution_count": 47
    }
   ],
   "metadata": {}
  },
  {
   "cell_type": "markdown",
   "source": [
    "### Maximum Efficieny within the sequence of n= 25"
   ],
   "metadata": {}
  },
  {
   "cell_type": "code",
   "execution_count": 48,
   "source": [
    "poly_seq.max_efficiency"
   ],
   "outputs": [
    {
     "output_type": "execute_result",
     "data": {
      "text/plain": [
       "'Maximum efficint polygon having 25 edges and area to perimeter ratio is 2.4802867532861947'"
      ]
     },
     "metadata": {},
     "execution_count": 48
    }
   ],
   "metadata": {}
  }
 ],
 "metadata": {
  "orig_nbformat": 4,
  "language_info": {
   "name": "python"
  }
 },
 "nbformat": 4,
 "nbformat_minor": 2
}